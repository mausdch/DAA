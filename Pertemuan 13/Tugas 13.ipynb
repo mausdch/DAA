{
 "cells": [
  {
   "cell_type": "markdown",
   "metadata": {},
   "source": [
    "# Algoritma BFS dan DFS"
   ]
  },
  {
   "cell_type": "markdown",
   "metadata": {},
   "source": [
    "## BFS"
   ]
  },
  {
   "cell_type": "code",
   "execution_count": 38,
   "metadata": {},
   "outputs": [],
   "source": [
    "graph={ 'Amin' :{'Wasim', 'Nick', 'Mike'},\n",
    "          'Wasim' : {'Imran', 'Amin'},\n",
    "          'Imran' : {'Wasim', 'Faras'},\n",
    "          'Faras' : {'Imran'},\n",
    "          'Mike'  : {'Amin'},\n",
    "          'Nick'  : {'Amin'}}"
   ]
  },
  {
   "cell_type": "code",
   "execution_count": 42,
   "metadata": {},
   "outputs": [],
   "source": [
    "def bfs(graph, start):\n",
    "    visited = []\n",
    "    queue = [start]\n",
    "    \n",
    "    while queue:\n",
    "        node = queue.pop(0)\n",
    "        if node not in visited:\n",
    "            visited.append(node)\n",
    "            neighbours = graph[node]\n",
    "            for neighbour in neighbours:\n",
    "                queue.append(neighbour)\n",
    "    return visited"
   ]
  },
  {
   "cell_type": "code",
   "execution_count": 43,
   "metadata": {},
   "outputs": [
    {
     "data": {
      "text/plain": [
       "['Amin', 'Wasim', 'Mike', 'Nick', 'Imran', 'Faras']"
      ]
     },
     "execution_count": 43,
     "metadata": {},
     "output_type": "execute_result"
    }
   ],
   "source": [
    "# O amin---------------\n",
    "# |         |         |\n",
    "# O wasim   O nick   O mike\n",
    "# |\n",
    "# O imran\n",
    "# |\n",
    "# O faras\n",
    "\n",
    "bfs(graph, 'Amin')"
   ]
  },
  {
   "cell_type": "code",
   "execution_count": 44,
   "metadata": {},
   "outputs": [
    {
     "data": {
      "text/plain": [
       "['Wasim', 'Amin', 'Imran', 'Mike', 'Nick', 'Faras']"
      ]
     },
     "execution_count": 44,
     "metadata": {},
     "output_type": "execute_result"
    }
   ],
   "source": [
    "# O wasim-----\n",
    "# |          |\n",
    "# O imran    O amin-------\n",
    "# |           |          |\n",
    "# O faras    O nick     0 mike\n",
    "\n",
    "\n",
    "bfs(graph, 'Wasim')"
   ]
  },
  {
   "cell_type": "code",
   "execution_count": 45,
   "metadata": {},
   "outputs": [
    {
     "data": {
      "text/plain": [
       "['Faras', 'Imran', 'Wasim', 'Amin', 'Mike', 'Nick']"
      ]
     },
     "execution_count": 45,
     "metadata": {},
     "output_type": "execute_result"
    }
   ],
   "source": [
    "# O faras \n",
    "# |\n",
    "# O imran-----------\n",
    "# |        |       |\n",
    "# O wasim  O nick  O mike\n",
    "# |\n",
    "# O min \n",
    "\n",
    "bfs(graph, 'Faras')"
   ]
  },
  {
   "cell_type": "markdown",
   "metadata": {},
   "source": [
    "## DFS"
   ]
  },
  {
   "cell_type": "code",
   "execution_count": 46,
   "metadata": {},
   "outputs": [],
   "source": [
    "def dfs(graph, start, visited=None):\n",
    "    if visited is None:\n",
    "        visited = set()\n",
    "    visited.add(start)\n",
    "    print(start)\n",
    "    for next in graph[start] - visited:\n",
    "        dfs(graph, next, visited)\n",
    "    return visited"
   ]
  },
  {
   "cell_type": "code",
   "execution_count": 47,
   "metadata": {},
   "outputs": [],
   "source": [
    "graph={'Amin' : {'Wasim', 'Nick', 'Mike'},\n",
    "        'Wasim' : {'Imran', 'Amin'},\n",
    "        'Imran' : {'Wasim','Faras'},\n",
    "        'Faras' : {'Imran'},\n",
    "        'Mike' : {'Amin'},\n",
    "        'Nick'  : {'Amin'}}"
   ]
  },
  {
   "cell_type": "code",
   "execution_count": 51,
   "metadata": {},
   "outputs": [
    {
     "name": "stdout",
     "output_type": "stream",
     "text": [
      "Amin\n",
      "Wasim\n",
      "Imran\n",
      "Faras\n",
      "Mike\n",
      "Nick\n"
     ]
    },
    {
     "data": {
      "text/plain": [
       "{'Amin', 'Faras', 'Imran', 'Mike', 'Nick', 'Wasim'}"
      ]
     },
     "execution_count": 51,
     "metadata": {},
     "output_type": "execute_result"
    }
   ],
   "source": [
    "# O amin ----------\n",
    "# |        |       |\n",
    "# O wasim O nick  O mike\n",
    "# |\n",
    "# O imran\n",
    "# |\n",
    "# O faras\n",
    "\n",
    "# turun dart amin ke faras, geser ke nick & mike\n",
    "\n",
    "dfs(graph, 'Amin')"
   ]
  },
  {
   "cell_type": "code",
   "execution_count": 52,
   "metadata": {},
   "outputs": [
    {
     "name": "stdout",
     "output_type": "stream",
     "text": [
      "Wasim\n",
      "Amin\n",
      "Mike\n",
      "Nick\n",
      "Imran\n",
      "Faras\n"
     ]
    },
    {
     "data": {
      "text/plain": [
       "{'Amin', 'Faras', 'Imran', 'Mike', 'Nick', 'Wasim'}"
      ]
     },
     "execution_count": 52,
     "metadata": {},
     "output_type": "execute_result"
    }
   ],
   "source": [
    "# O amin ------------\n",
    "# |         |        |\n",
    "# O wasim   O nick   O mike\n",
    "# |\n",
    "# O imran\n",
    "# |\n",
    "# O faras\n",
    "\n",
    "# turun dari wasim ke faras, naik ke amin, geser ke nick & mike \n",
    "\n",
    "dfs(graph, 'Wasim')"
   ]
  },
  {
   "cell_type": "code",
   "execution_count": 53,
   "metadata": {},
   "outputs": [
    {
     "name": "stdout",
     "output_type": "stream",
     "text": [
      "Faras\n",
      "Imran\n",
      "Wasim\n",
      "Amin\n",
      "Mike\n",
      "Nick\n"
     ]
    },
    {
     "data": {
      "text/plain": [
       "{'Amin', 'Faras', 'Imran', 'Mike', 'Nick', 'Wasim'}"
      ]
     },
     "execution_count": 53,
     "metadata": {},
     "output_type": "execute_result"
    }
   ],
   "source": [
    "# 0 amin --------------\n",
    "# |          |         |\n",
    "# 0 wasim   0 nick    0 mike\n",
    "# |\n",
    "# 0 imran\n",
    "# |\n",
    "# 0 faras\n",
    "\n",
    "# naik dari faras ke amin, geser ke nick & mike\n",
    "\n",
    "dfs(graph, 'Faras')"
   ]
  },
  {
   "cell_type": "code",
   "execution_count": 55,
   "metadata": {},
   "outputs": [
    {
     "name": "stdout",
     "output_type": "stream",
     "text": [
      "Nick\n",
      "Amin\n",
      "Wasim\n",
      "Imran\n",
      "Faras\n",
      "Mike\n"
     ]
    },
    {
     "data": {
      "text/plain": [
       "{'Amin', 'Faras', 'Imran', 'Mike', 'Nick', 'Wasim'}"
      ]
     },
     "execution_count": 55,
     "metadata": {},
     "output_type": "execute_result"
    }
   ],
   "source": [
    "# O amin ----------- \n",
    "# |         |       |\n",
    "# O wasim  O nick  O mike\n",
    "# |\n",
    "# O imran\n",
    "# |\n",
    "# O faras\n",
    "\n",
    "# naik nick ke amin, turun ke faras, geser ke mike \n",
    "\n",
    "dfs(graph,'Nick')"
   ]
  }
 ],
 "metadata": {
  "kernelspec": {
   "display_name": "Python 3",
   "language": "python",
   "name": "python3"
  },
  "language_info": {
   "codemirror_mode": {
    "name": "ipython",
    "version": 3
   },
   "file_extension": ".py",
   "mimetype": "text/x-python",
   "name": "python",
   "nbconvert_exporter": "python",
   "pygments_lexer": "ipython3",
   "version": "3.8.3"
  }
 },
 "nbformat": 4,
 "nbformat_minor": 4
}
